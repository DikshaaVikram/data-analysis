{
 "cells": [
  {
   "cell_type": "code",
   "execution_count": 11,
   "id": "7c680a01",
   "metadata": {},
   "outputs": [],
   "source": [
    "import pandas as pd\n",
    "from statsmodels.formula.api import ols\n",
    "from statsmodels.stats.anova import anova_lm\n",
    "import matplotlib.pyplot as plt"
   ]
  },
  {
   "cell_type": "code",
   "execution_count": 12,
   "id": "bfea6b7a",
   "metadata": {
    "scrolled": true
   },
   "outputs": [
    {
     "data": {
      "text/html": [
       "<div>\n",
       "<style scoped>\n",
       "    .dataframe tbody tr th:only-of-type {\n",
       "        vertical-align: middle;\n",
       "    }\n",
       "\n",
       "    .dataframe tbody tr th {\n",
       "        vertical-align: top;\n",
       "    }\n",
       "\n",
       "    .dataframe thead th {\n",
       "        text-align: right;\n",
       "    }\n",
       "</style>\n",
       "<table border=\"1\" class=\"dataframe\">\n",
       "  <thead>\n",
       "    <tr style=\"text-align: right;\">\n",
       "      <th></th>\n",
       "      <th>Driving Assignmnet</th>\n",
       "      <th>x1</th>\n",
       "      <th>n_of_deliveries</th>\n",
       "      <th>travel_time</th>\n",
       "    </tr>\n",
       "  </thead>\n",
       "  <tbody>\n",
       "    <tr>\n",
       "      <th>0</th>\n",
       "      <td>1</td>\n",
       "      <td>100</td>\n",
       "      <td>4</td>\n",
       "      <td>9.3</td>\n",
       "    </tr>\n",
       "    <tr>\n",
       "      <th>1</th>\n",
       "      <td>2</td>\n",
       "      <td>50</td>\n",
       "      <td>3</td>\n",
       "      <td>4.8</td>\n",
       "    </tr>\n",
       "    <tr>\n",
       "      <th>2</th>\n",
       "      <td>3</td>\n",
       "      <td>100</td>\n",
       "      <td>4</td>\n",
       "      <td>8.9</td>\n",
       "    </tr>\n",
       "    <tr>\n",
       "      <th>3</th>\n",
       "      <td>4</td>\n",
       "      <td>100</td>\n",
       "      <td>2</td>\n",
       "      <td>6.5</td>\n",
       "    </tr>\n",
       "    <tr>\n",
       "      <th>4</th>\n",
       "      <td>5</td>\n",
       "      <td>50</td>\n",
       "      <td>2</td>\n",
       "      <td>4.2</td>\n",
       "    </tr>\n",
       "    <tr>\n",
       "      <th>5</th>\n",
       "      <td>6</td>\n",
       "      <td>80</td>\n",
       "      <td>2</td>\n",
       "      <td>6.2</td>\n",
       "    </tr>\n",
       "    <tr>\n",
       "      <th>6</th>\n",
       "      <td>7</td>\n",
       "      <td>75</td>\n",
       "      <td>3</td>\n",
       "      <td>7.4</td>\n",
       "    </tr>\n",
       "    <tr>\n",
       "      <th>7</th>\n",
       "      <td>8</td>\n",
       "      <td>65</td>\n",
       "      <td>4</td>\n",
       "      <td>6.0</td>\n",
       "    </tr>\n",
       "    <tr>\n",
       "      <th>8</th>\n",
       "      <td>9</td>\n",
       "      <td>90</td>\n",
       "      <td>3</td>\n",
       "      <td>7.6</td>\n",
       "    </tr>\n",
       "    <tr>\n",
       "      <th>9</th>\n",
       "      <td>10</td>\n",
       "      <td>90</td>\n",
       "      <td>2</td>\n",
       "      <td>6.1</td>\n",
       "    </tr>\n",
       "  </tbody>\n",
       "</table>\n",
       "</div>"
      ],
      "text/plain": [
       "   Driving Assignmnet   x1  n_of_deliveries  travel_time\n",
       "0                   1  100                4          9.3\n",
       "1                   2   50                3          4.8\n",
       "2                   3  100                4          8.9\n",
       "3                   4  100                2          6.5\n",
       "4                   5   50                2          4.2\n",
       "5                   6   80                2          6.2\n",
       "6                   7   75                3          7.4\n",
       "7                   8   65                4          6.0\n",
       "8                   9   90                3          7.6\n",
       "9                  10   90                2          6.1"
      ]
     },
     "execution_count": 12,
     "metadata": {},
     "output_type": "execute_result"
    }
   ],
   "source": [
    "df1 = pd.read_excel('C:/Users/Dikshaa Vikram/Desktop/NPTEL Data Analytics/TRUCKING.xlsx')\n",
    "df1"
   ]
  },
  {
   "cell_type": "code",
   "execution_count": 14,
   "id": "6c5c63ad",
   "metadata": {
    "scrolled": true
   },
   "outputs": [
    {
     "data": {
      "text/plain": [
       "Text(0.5, 1.0, ' Simple liner regression with Miles travelled ')"
      ]
     },
     "execution_count": 14,
     "metadata": {},
     "output_type": "execute_result"
    },
    {
     "data": {
      "image/png": "[encoded data removed]",
      "text/plain": [
       "<Figure size 640x480 with 1 Axes>"
      ]
     },
     "metadata": {},
     "output_type": "display_data"
    }
   ],
   "source": [
    "import matplotlib.pyplot as plt\n",
    "plt.scatter(df1['x1'],df1['travel_time'], color = \"green\")\n",
    "plt.ylabel('Travel time')\n",
    "plt.title(' Simple liner regression with Miles travelled ')"
   ]
  },
  {
   "cell_type": "code",
   "execution_count": 20,
   "id": "0bc3425d",
   "metadata": {
    "scrolled": true
   },
   "outputs": [
    {
     "data": {
      "text/plain": [
       "Text(0.5, 1.0, ' Multiple regression model ')"
      ]
     },
     "execution_count": 20,
     "metadata": {},
     "output_type": "execute_result"
    },
    {
     "data": {
      "image/png": "[encoded data removed]",
      "text/plain": [
       "<Figure size 640x480 with 1 Axes>"
      ]
     },
     "metadata": {},
     "output_type": "display_data"
    }
   ],
   "source": [
    "import matplotlib.pyplot as plt\n",
    "plt.scatter(df1['n_of_deliveries'],df1['travel_time'], color = \"red\")\n",
    "plt.scatter(df1['x1'],df1['travel_time'], color = \"green\")\n",
    "plt.ylabel('Travel time')\n",
    "plt.title(' Multiple regression model ')"
   ]
  },
  {
   "cell_type": "code",
   "execution_count": 21,
   "id": "b2f68127",
   "metadata": {},
   "outputs": [
    {
     "data": {
      "text/plain": [
       "Text(0.5, 1.0, ' Simple liner regression with no of deliveries ')"
      ]
     },
     "execution_count": 21,
     "metadata": {},
     "output_type": "execute_result"
    },
    {
     "data": {
      "image/png": "[encoded data removed]",
      "text/plain": [
       "<Figure size 640x480 with 1 Axes>"
      ]
     },
     "metadata": {},
     "output_type": "display_data"
    }
   ],
   "source": [
    "import matplotlib.pyplot as plt\n",
    "plt.scatter(df1['n_of_deliveries'],df1['travel_time'], color = \"red\")\n",
    "plt.ylabel('Travel time')\n",
    "plt.title(' Simple liner regression with no of deliveries ')"
   ]
  },
  {
   "cell_type": "code",
   "execution_count": 26,
   "id": "59e27714",
   "metadata": {
    "scrolled": true
   },
   "outputs": [
    {
     "name": "stdout",
     "output_type": "stream",
     "text": [
      "                            OLS Regression Results                            \n",
      "==============================================================================\n",
      "Dep. Variable:            travel_time   R-squared:                       0.664\n",
      "Model:                            OLS   Adj. R-squared:                  0.622\n",
      "Method:                 Least Squares   F-statistic:                     15.81\n",
      "Date:                Tue, 28 Mar 2023   Prob (F-statistic):            0.00408\n",
      "Time:                        22:39:12   Log-Likelihood:                -13.092\n",
      "No. Observations:                  10   AIC:                             30.18\n",
      "Df Residuals:                       8   BIC:                             30.79\n",
      "Df Model:                           1                                         \n",
      "Covariance Type:            nonrobust                                         \n",
      "==============================================================================\n",
      "                 coef    std err          t      P>|t|      [0.025      0.975]\n",
      "------------------------------------------------------------------------------\n",
      "Intercept      1.2739      1.401      0.909      0.390      -1.956       4.504\n",
      "x1             0.0678      0.017      3.977      0.004       0.028       0.107\n",
      "==============================================================================\n",
      "Omnibus:                        0.694   Durbin-Watson:                   1.723\n",
      "Prob(Omnibus):                  0.707   Jarque-Bera (JB):                0.623\n",
      "Skew:                          -0.333   Prob(JB):                        0.732\n",
      "Kurtosis:                       1.974   Cond. No.                         363.\n",
      "==============================================================================\n",
      "\n",
      "Notes:\n",
      "[1] Standard Errors assume that the covariance matrix of the errors is correctly specified.\n"
     ]
    },
    {
     "name": "stderr",
     "output_type": "stream",
     "text": [
      "D:\\backups\\anaconda\\lib\\site-packages\\scipy\\stats\\_stats_py.py:1769: UserWarning: kurtosistest only valid for n>=20 ... continuing anyway, n=10\n",
      "  warnings.warn(\"kurtosistest only valid for n>=20 ... continuing \"\n"
     ]
    }
   ],
   "source": [
    "Reg1 = ols(formula = \"travel_time ~ x1\", data = df1)\n",
    "Fit1 = Reg1.fit()\n",
    "print(Fit1.summary())"
   ]
  },
  {
   "cell_type": "code",
   "execution_count": 35,
   "id": "02bdcefb",
   "metadata": {},
   "outputs": [
    {
     "name": "stdout",
     "output_type": "stream",
     "text": [
      "                            OLS Regression Results                            \n",
      "==============================================================================\n",
      "Dep. Variable:            travel_time   R-squared:                       0.904\n",
      "Model:                            OLS   Adj. R-squared:                  0.876\n",
      "Method:                 Least Squares   F-statistic:                     32.88\n",
      "Date:                Tue, 28 Mar 2023   Prob (F-statistic):           0.000276\n",
      "Time:                        23:52:48   Log-Likelihood:                -6.8398\n",
      "No. Observations:                  10   AIC:                             19.68\n",
      "Df Residuals:                       7   BIC:                             20.59\n",
      "Df Model:                           2                                         \n",
      "Covariance Type:            nonrobust                                         \n",
      "===================================================================================\n",
      "                      coef    std err          t      P>|t|      [0.025      0.975]\n",
      "-----------------------------------------------------------------------------------\n",
      "Intercept          -0.8687      0.952     -0.913      0.392      -3.119       1.381\n",
      "x1                  0.0611      0.010      6.182      0.000       0.038       0.085\n",
      "n_of_deliveries     0.9234      0.221      4.176      0.004       0.401       1.446\n",
      "==============================================================================\n",
      "Omnibus:                        0.039   Durbin-Watson:                   2.515\n",
      "Prob(Omnibus):                  0.981   Jarque-Bera (JB):                0.151\n",
      "Skew:                           0.074   Prob(JB):                        0.927\n",
      "Kurtosis:                       2.418   Cond. No.                         435.\n",
      "==============================================================================\n",
      "\n",
      "Notes:\n",
      "[1] Standard Errors assume that the covariance matrix of the errors is correctly specified.\n"
     ]
    },
    {
     "name": "stderr",
     "output_type": "stream",
     "text": [
      "D:\\backups\\anaconda\\lib\\site-packages\\scipy\\stats\\_stats_py.py:1769: UserWarning: kurtosistest only valid for n>=20 ... continuing anyway, n=10\n",
      "  warnings.warn(\"kurtosistest only valid for n>=20 ... continuing \"\n"
     ]
    }
   ],
   "source": [
    "Reg2 = ols(formula = \"travel_time ~ x1 + n_of_deliveries\", data = df1)\n",
    "Fit2 = Reg2.fit()\n",
    "print(Fit2.summary())"
   ]
  },
  {
   "cell_type": "code",
   "execution_count": null,
   "id": "40e3873c",
   "metadata": {},
   "outputs": [],
   "source": []
  },
  {
   "cell_type": "code",
   "execution_count": null,
   "id": "a7cb79cd",
   "metadata": {},
   "outputs": [],
   "source": []
  }
 ],
 "metadata": {
  "kernelspec": {
   "display_name": "Python 3 (ipykernel)",
   "language": "python",
   "name": "python3"
  },
  "language_info": {
   "codemirror_mode": {
    "name": "ipython",
    "version": 3
   },
   "file_extension": ".py",
   "mimetype": "text/x-python",
   "name": "python",
   "nbconvert_exporter": "python",
   "pygments_lexer": "ipython3",
   "version": "3.9.13"
  }
 },
 "nbformat": 4,
 "nbformat_minor": 5
}
